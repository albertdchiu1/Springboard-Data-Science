{
 "cells": [
  {
   "cell_type": "markdown",
   "metadata": {},
   "source": [
    "## Capstone 1 Project: Prediction of Churn for Telecom Customers (Inferential Statistics)"
   ]
  },
  {
   "cell_type": "code",
   "execution_count": 1,
   "metadata": {},
   "outputs": [
    {
     "name": "stderr",
     "output_type": "stream",
     "text": [
      "/Users/albertchiu/anaconda3/lib/python3.6/site-packages/statsmodels/compat/pandas.py:56: FutureWarning: The pandas.core.datetools module is deprecated and will be removed in a future version. Please use the pandas.tseries module instead.\n",
      "  from pandas.core import datetools\n"
     ]
    }
   ],
   "source": [
    "import csv\n",
    "import pandas as pd\n",
    "import numpy as np\n",
    "import matplotlib.pyplot as plt\n",
    "import seaborn as sns\n",
    "import scipy.stats as st\n",
    "import statsmodels.api as sm\n",
    "from statsmodels.stats.proportion import proportions_ztest as pz\n",
    "\n",
    "\n",
    "csvfile = 'WA_Fn-UseC_-Telco-Customer-Churn.csv'\n",
    "\n",
    "df = pd.read_csv(csvfile)\n",
    "\n",
    "df.TotalCharges = pd.to_numeric(df.TotalCharges, errors='coerce')\n",
    "null_list = df[df['TotalCharges'].isnull()].index.tolist()\n",
    "df = df.dropna()\n",
    "\n",
    "plt.style.use('ggplot')"
   ]
  },
  {
   "cell_type": "code",
   "execution_count": 2,
   "metadata": {},
   "outputs": [
    {
     "data": {
      "text/html": [
       "<div>\n",
       "<style scoped>\n",
       "    .dataframe tbody tr th:only-of-type {\n",
       "        vertical-align: middle;\n",
       "    }\n",
       "\n",
       "    .dataframe tbody tr th {\n",
       "        vertical-align: top;\n",
       "    }\n",
       "\n",
       "    .dataframe thead th {\n",
       "        text-align: right;\n",
       "    }\n",
       "</style>\n",
       "<table border=\"1\" class=\"dataframe\">\n",
       "  <thead>\n",
       "    <tr style=\"text-align: right;\">\n",
       "      <th></th>\n",
       "      <th>SeniorCitizen</th>\n",
       "      <th>tenure</th>\n",
       "      <th>MonthlyCharges</th>\n",
       "      <th>TotalCharges</th>\n",
       "    </tr>\n",
       "  </thead>\n",
       "  <tbody>\n",
       "    <tr>\n",
       "      <th>count</th>\n",
       "      <td>7032.000000</td>\n",
       "      <td>7032.000000</td>\n",
       "      <td>7032.000000</td>\n",
       "      <td>7032.000000</td>\n",
       "    </tr>\n",
       "    <tr>\n",
       "      <th>mean</th>\n",
       "      <td>0.162400</td>\n",
       "      <td>32.421786</td>\n",
       "      <td>64.798208</td>\n",
       "      <td>2283.300441</td>\n",
       "    </tr>\n",
       "    <tr>\n",
       "      <th>std</th>\n",
       "      <td>0.368844</td>\n",
       "      <td>24.545260</td>\n",
       "      <td>30.085974</td>\n",
       "      <td>2266.771362</td>\n",
       "    </tr>\n",
       "    <tr>\n",
       "      <th>min</th>\n",
       "      <td>0.000000</td>\n",
       "      <td>1.000000</td>\n",
       "      <td>18.250000</td>\n",
       "      <td>18.800000</td>\n",
       "    </tr>\n",
       "    <tr>\n",
       "      <th>25%</th>\n",
       "      <td>0.000000</td>\n",
       "      <td>9.000000</td>\n",
       "      <td>35.587500</td>\n",
       "      <td>401.450000</td>\n",
       "    </tr>\n",
       "    <tr>\n",
       "      <th>50%</th>\n",
       "      <td>0.000000</td>\n",
       "      <td>29.000000</td>\n",
       "      <td>70.350000</td>\n",
       "      <td>1397.475000</td>\n",
       "    </tr>\n",
       "    <tr>\n",
       "      <th>75%</th>\n",
       "      <td>0.000000</td>\n",
       "      <td>55.000000</td>\n",
       "      <td>89.862500</td>\n",
       "      <td>3794.737500</td>\n",
       "    </tr>\n",
       "    <tr>\n",
       "      <th>max</th>\n",
       "      <td>1.000000</td>\n",
       "      <td>72.000000</td>\n",
       "      <td>118.750000</td>\n",
       "      <td>8684.800000</td>\n",
       "    </tr>\n",
       "  </tbody>\n",
       "</table>\n",
       "</div>"
      ],
      "text/plain": [
       "       SeniorCitizen       tenure  MonthlyCharges  TotalCharges\n",
       "count    7032.000000  7032.000000     7032.000000   7032.000000\n",
       "mean        0.162400    32.421786       64.798208   2283.300441\n",
       "std         0.368844    24.545260       30.085974   2266.771362\n",
       "min         0.000000     1.000000       18.250000     18.800000\n",
       "25%         0.000000     9.000000       35.587500    401.450000\n",
       "50%         0.000000    29.000000       70.350000   1397.475000\n",
       "75%         0.000000    55.000000       89.862500   3794.737500\n",
       "max         1.000000    72.000000      118.750000   8684.800000"
      ]
     },
     "execution_count": 2,
     "metadata": {},
     "output_type": "execute_result"
    }
   ],
   "source": [
    "df.describe()"
   ]
  },
  {
   "cell_type": "code",
   "execution_count": 3,
   "metadata": {},
   "outputs": [],
   "source": [
    "# creating separate dataframes for churn and nonchurn customers\n",
    "churn_df = df[df.Churn == 'Yes']\n",
    "nochurn_df = df[df.Churn == 'No']"
   ]
  },
  {
   "cell_type": "markdown",
   "metadata": {},
   "source": [
    "#### 1. Using alpha = 0.05, is there a significant difference in the monthly charges of churn customers vs non-churn customers?\n",
    "\n",
    "H0: There is no significant difference in the monthly charges of churn customers vs non-churn customers.\n",
    "\n",
    "Ha: There is a significant difference in the monthly charges of churn customers vs non-churn customers."
   ]
  },
  {
   "cell_type": "code",
   "execution_count": 4,
   "metadata": {},
   "outputs": [],
   "source": [
    "# writing functions for bootstrap method\n",
    "def bootstrap_replicate(data, func):\n",
    "    bs_sample = np.random.choice(data, len(data))\n",
    "    return func(bs_sample)\n",
    "\n",
    "def bootstrap(category):\n",
    "\n",
    "    bs_replicates_churn = np.empty(10000)\n",
    "    bs_replicates_nochurn = np.empty(10000)\n",
    "\n",
    "    for i in range(10000):\n",
    "        bs_replicates_churn[i] = bootstrap_replicate(churn_df[category], np.mean)\n",
    "    \n",
    "    for i in range(10000):\n",
    "        bs_replicates_nochurn[i] = bootstrap_replicate(nochurn_df[category], np.mean)\n",
    "\n",
    "    boot_conf_int = np.percentile(bs_replicates_churn, [2.5, 97.5])\n",
    "\n",
    "    print('Churn customer', category, 'mean:', bs_replicates_churn.mean().round(3))\n",
    "    print('Churn customer', category, 'std dev:', bs_replicates_churn.std().round(3), '\\n')\n",
    "    print('Non-churn customer', category, 'mean:', bs_replicates_nochurn.mean().round(3))\n",
    "    print('Non-churn customer', category, 'std dev:', bs_replicates_nochurn.std().round(3), '\\n')\n",
    "\n",
    "    if bs_replicates_nochurn.mean().round(3) in boot_conf_int:\n",
    "        print('Non-churn customer', category, 'is/are within the 95% CI of churn customer', category, '.')\n",
    "    else:\n",
    "        print('Non-churn customer', category, 'is/are outside the 95% CI of churn customer', category + '.')"
   ]
  },
  {
   "cell_type": "code",
   "execution_count": 5,
   "metadata": {},
   "outputs": [
    {
     "name": "stdout",
     "output_type": "stream",
     "text": [
      "Churn customer MonthlyCharges mean: 74.447\n",
      "Churn customer MonthlyCharges std dev: 0.583 \n",
      "\n",
      "Non-churn customer MonthlyCharges mean: 61.308\n",
      "Non-churn customer MonthlyCharges std dev: 0.432 \n",
      "\n",
      "Non-churn customer MonthlyCharges is/are outside the 95% CI of churn customer MonthlyCharges.\n"
     ]
    }
   ],
   "source": [
    "# bootstrap method for monthly charges\n",
    "bootstrap('MonthlyCharges')"
   ]
  },
  {
   "cell_type": "code",
   "execution_count": 6,
   "metadata": {},
   "outputs": [
    {
     "name": "stdout",
     "output_type": "stream",
     "text": [
      "P-value: 6.760843117980302e-60\n"
     ]
    }
   ],
   "source": [
    "# frequentist method with two sample z-test\n",
    "stat, pval = st.ttest_ind(churn_df.MonthlyCharges, nochurn_df.MonthlyCharges)\n",
    "print('P-value:', pval)"
   ]
  },
  {
   "cell_type": "markdown",
   "metadata": {},
   "source": [
    "Using both bootstrap and frequentist method, we can reject the null hypothesis and accept the alternative hypothesis that churn and non-churn customers have statistically different mean monthly charges."
   ]
  },
  {
   "cell_type": "markdown",
   "metadata": {},
   "source": [
    "#### 2. Using alpha = 0.05, is there a significant difference in the tenure of churn customers vs non-churn customers?\n",
    "\n",
    "H0: There is no significant difference in the tenure of churn customers vs non-churn customers.\n",
    "\n",
    "Ha: There is a significant difference in the tenure charges of churn customers vs non-churn customers."
   ]
  },
  {
   "cell_type": "code",
   "execution_count": 7,
   "metadata": {},
   "outputs": [
    {
     "name": "stdout",
     "output_type": "stream",
     "text": [
      "Churn customer tenure mean: 17.977\n",
      "Churn customer tenure std dev: 0.449 \n",
      "\n",
      "Non-churn customer tenure mean: 37.653\n",
      "Non-churn customer tenure std dev: 0.334 \n",
      "\n",
      "Non-churn customer tenure is/are outside the 95% CI of churn customer tenure.\n"
     ]
    }
   ],
   "source": [
    "# bootstrap method\n",
    "bootstrap('tenure')"
   ]
  },
  {
   "cell_type": "code",
   "execution_count": 8,
   "metadata": {},
   "outputs": [
    {
     "name": "stdout",
     "output_type": "stream",
     "text": [
      "P-value: 9.437650217574845e-207\n"
     ]
    }
   ],
   "source": [
    "# frequentist method with two sample z-test\n",
    "stat, pval = st.ttest_ind(churn_df.tenure, nochurn_df.tenure)\n",
    "print('P-value:', pval)"
   ]
  },
  {
   "cell_type": "markdown",
   "metadata": {},
   "source": [
    "Using both bootstrap and frequentist method, we can reject the null hypothesis and accept the alternative hypothesis that churn and non-churn customers have statistically different mean tenure."
   ]
  },
  {
   "cell_type": "markdown",
   "metadata": {},
   "source": [
    "#### 3. Heat map of numerical data"
   ]
  },
  {
   "cell_type": "code",
   "execution_count": 9,
   "metadata": {},
   "outputs": [
    {
     "data": {
      "text/plain": [
       "<matplotlib.axes._subplots.AxesSubplot at 0x10496dfd0>"
      ]
     },
     "execution_count": 9,
     "metadata": {},
     "output_type": "execute_result"
    },
    {
     "data": {
      "image/png": "[encoded data removed]",
      "text/plain": [
       "<Figure size 792x648 with 2 Axes>"
      ]
     },
     "metadata": {},
     "output_type": "display_data"
    }
   ],
   "source": [
    "corr = df.corr()\n",
    "\n",
    "mask = np.zeros_like(corr, dtype = np.bool)\n",
    "mask[np.triu_indices_from(mask)] = True\n",
    "\n",
    "f, ax = plt.subplots(figsize = (11, 9))\n",
    "\n",
    "cmap = sns.diverging_palette(220, 10, as_cmap=True)\n",
    "\n",
    "sns.heatmap(corr, mask=mask, cmap=cmap, vmax=.3, center=0, square=True, linewidths=.5, cbar_kws={\"shrink\": .5})"
   ]
  },
  {
   "cell_type": "markdown",
   "metadata": {},
   "source": [
    "#### 4. Using alpha = 0.05, is there a significant difference in the percentage of churn customers and non-churn customers in choosing fiber optic internet service?\n",
    "\n",
    "H0: There is no significant difference in the percentage of churn customers vs non-churn customers that use fiber optic for internet service.\n",
    "\n",
    "Ha: There is a significant difference in the percentage of churn customers vs non-churn customers that use fiber optic for internet service."
   ]
  },
  {
   "cell_type": "code",
   "execution_count": 10,
   "metadata": {},
   "outputs": [
    {
     "name": "stdout",
     "output_type": "stream",
     "text": [
      "P-value: 1.3792417311863573e-146\n"
     ]
    }
   ],
   "source": [
    "# number of churn and non-churn customers using fiber optic internet service\n",
    "churn_fiber_optic = churn_df.InternetService[churn_df.InternetService == 'Fiber optic'].count()\n",
    "nochurn_fiber_optic = nochurn_df.InternetService[nochurn_df.InternetService == 'Fiber optic'].count()\n",
    "\n",
    "# calculating p-value\n",
    "stat, pval = pz(np.array([churn_fiber_optic, nochurn_fiber_optic]), np.array([len(churn_df),len(nochurn_df)]), value = 0)\n",
    "print('P-value:', pval)"
   ]
  },
  {
   "cell_type": "markdown",
   "metadata": {},
   "source": [
    "The p-value is less than alpha = 0.05.  Therefore, we can reject the null hypothesis and accept the alternative hypothesis that percentage of "
   ]
  },
  {
   "cell_type": "markdown",
   "metadata": {},
   "source": [
    "#### 5. Using alpha = 0.05, is there a significant difference in the percentage of customers that churn by gender?\n",
    "\n",
    "H0: There is no significant difference in the percentage of customers that churn by gender.\n",
    "\n",
    "Ha: There is a significant difference in the percentage of customers that churn by gender."
   ]
  },
  {
   "cell_type": "code",
   "execution_count": 11,
   "metadata": {},
   "outputs": [
    {
     "name": "stdout",
     "output_type": "stream",
     "text": [
      "P-value: 0.474\n"
     ]
    }
   ],
   "source": [
    "# number of churn and non-churn customers using fiber optic internet service\n",
    "female_churn = churn_df.gender[churn_df.gender == 'Female'].count()\n",
    "male_churn = churn_df.gender[churn_df.gender == 'Male'].count()\n",
    "\n",
    "# calculating p-value\n",
    "stat, pval = pz(np.array([female_churn, male_churn]), np.array([len(df[df.gender == 'Female']), len(df[df.gender == 'Male'])]), value = 0)\n",
    "print('P-value:', pval.round(3))"
   ]
  },
  {
   "cell_type": "markdown",
   "metadata": {},
   "source": [
    "The p-value is greater than alpha = 0.05.  Therefore, we can accept the null hypothesis that there is no significant difference in the percentage of customers that churn by gender."
   ]
  },
  {
   "cell_type": "markdown",
   "metadata": {},
   "source": [
    "#### 6. Using alpha = 0.05, is there a significant difference in the percentage of churn and non-churn customers that are on month-to-month contracts?\n",
    "\n",
    "H0: There is no significant difference in the percentage of churn and non-churn customers that are on month-to-month contracts.\n",
    "\n",
    "Ha: There is a significant difference in the percentage of churn and non-churn customers that are on month-to-month contracts."
   ]
  },
  {
   "cell_type": "code",
   "execution_count": 12,
   "metadata": {
    "scrolled": true
   },
   "outputs": [
    {
     "name": "stdout",
     "output_type": "stream",
     "text": [
      "P-value: 2.7960092525873125e-252\n"
     ]
    }
   ],
   "source": [
    "# number of churn and non-churn customers that are on month-to-month contracts\n",
    "mo_to_mo_churn = churn_df.Contract[churn_df.Contract == 'Month-to-month'].count()\n",
    "mo_to_mo_nochurn = nochurn_df.Contract[nochurn_df.Contract == 'Month-to-month'].count()\n",
    "\n",
    "# calculating p-value\n",
    "stat, pval = pz(np.array([mo_to_mo_churn, mo_to_mo_nochurn]), np.array([len(churn_df), len(nochurn_df)]), value = 0)\n",
    "print('P-value:', pval)"
   ]
  },
  {
   "cell_type": "markdown",
   "metadata": {},
   "source": [
    "The p-value is less than alpha = 0.05. Therefore, we can reject the null hypothesis and accept the alternative hypothesis that there is significant difference in the percentage of churn customers and non-churn customers that are on month-to-month contracts."
   ]
  }
 ],
 "metadata": {
  "kernelspec": {
   "display_name": "Python 3",
   "language": "python",
   "name": "python3"
  },
  "language_info": {
   "codemirror_mode": {
    "name": "ipython",
    "version": 3
   },
   "file_extension": ".py",
   "mimetype": "text/x-python",
   "name": "python",
   "nbconvert_exporter": "python",
   "pygments_lexer": "ipython3",
   "version": "3.6.4"
  }
 },
 "nbformat": 4,
 "nbformat_minor": 2
}
