{
 "cells": [
  {
   "cell_type": "markdown",
   "metadata": {},
   "source": [
    "This exercise will require you to pull some data from the Qunadl API. Qaundl is currently the most widely used aggregator of financial market data."
   ]
  },
  {
   "cell_type": "markdown",
   "metadata": {},
   "source": [
    "As a first step, you will need to register a free account on the http://www.quandl.com website."
   ]
  },
  {
   "cell_type": "markdown",
   "metadata": {},
   "source": [
    "After you register, you will be provided with a unique API key, that you should store:"
   ]
  },
  {
   "cell_type": "code",
   "execution_count": 2,
   "metadata": {},
   "outputs": [],
   "source": [
    "# Store the API key as a string - according to PEP8, constants are always named in all upper case\n",
    "API_KEY = '1bXQPax_czkHmJxxh52x'"
   ]
  },
  {
   "cell_type": "markdown",
   "metadata": {},
   "source": [
    "Qaundl has a large number of data sources, but, unfortunately, most of them require a Premium subscription. Still, there are also a good number of free datasets."
   ]
  },
  {
   "cell_type": "markdown",
   "metadata": {},
   "source": [
    "For this mini project, we will focus on equities data from the Frankfurt Stock Exhange (FSE), which is available for free. We'll try and analyze the stock prices of a company called Carl Zeiss Meditec, which manufactures tools for eye examinations, as well as medical lasers for laser eye surgery: https://www.zeiss.com/meditec/int/home.html. The company is listed under the stock ticker AFX_X."
   ]
  },
  {
   "cell_type": "markdown",
   "metadata": {},
   "source": [
    "You can find the detailed Quandl API instructions here: https://docs.quandl.com/docs/time-series"
   ]
  },
  {
   "cell_type": "markdown",
   "metadata": {},
   "source": [
    "While there is a dedicated Python package for connecting to the Quandl API, we would prefer that you use the *requests* package, which can be easily downloaded using *pip* or *conda*. You can find the documentation for the package here: http://docs.python-requests.org/en/master/ "
   ]
  },
  {
   "cell_type": "markdown",
   "metadata": {},
   "source": [
    "Finally, apart from the *requests* package, you are encouraged to not use any third party Python packages, such as *pandas*, and instead focus on what's available in the Python Standard Library (the *collections* module might come in handy: https://pymotw.com/3/collections/).\n",
    "Also, since you won't have access to DataFrames, you are encouraged to us Python's native data structures - preferably dictionaries, though some questions can also be answered using lists.\n",
    "You can read more on these data structures here: https://docs.python.org/3/tutorial/datastructures.html"
   ]
  },
  {
   "cell_type": "markdown",
   "metadata": {},
   "source": [
    "Keep in mind that the JSON responses you will be getting from the API map almost one-to-one to Python's dictionaries. Unfortunately, they can be very nested, so make sure you read up on indexing dictionaries in the documentation provided above."
   ]
  },
  {
   "cell_type": "code",
   "execution_count": 3,
   "metadata": {},
   "outputs": [],
   "source": [
    "# First, import the relevant modules\n",
    "import requests\n",
    "import json"
   ]
  },
  {
   "cell_type": "code",
   "execution_count": 4,
   "metadata": {},
   "outputs": [
    {
     "name": "stdout",
     "output_type": "stream",
     "text": [
      "{'dataset': {'id': 10095370, 'dataset_code': 'AFX_X', 'database_code': 'FSE', 'name': 'Carl Zeiss Meditec (AFX_X)', 'description': 'Stock Prices for Carl Zeiss Meditec (AFX) from the Frankfurt Stock Exchange.<br><br>Trading System: Xetra<br><br>ISIN: DE0005313704', 'refreshed_at': '2018-08-16T22:31:00.313Z', 'newest_available_date': '2018-08-16', 'oldest_available_date': '2000-06-07', 'column_names': ['Date', 'Close'], 'frequency': 'daily', 'type': 'Time Series', 'premium': False, 'limit': None, 'transform': 'rdiff', 'column_index': 4, 'start_date': '2018-02-01', 'end_date': '2018-02-01', 'data': [], 'collapse': 'daily', 'order': None, 'database_id': 6129}}\n"
     ]
    }
   ],
   "source": [
    "# Now, call the Quandl API and pull out a small sample of the data (only one day) to get a glimpse\n",
    "# into the JSON structure that will be returned\n",
    "response = requests.get('https://www.quandl.com/api/v3/datasets/FSE/AFX_X.json?column_index=4&start_date=2018-02-01&end_date=2018-02-01&collapse=daily&transform=rdiff&api_key={}'.format(API_KEY))\n",
    "print(response.json())"
   ]
  },
  {
   "cell_type": "code",
   "execution_count": 5,
   "metadata": {},
   "outputs": [],
   "source": [
    "# Inspect the JSON structure of the object you created, and take note of how nested it is,\n",
    "# as well as the overall structure\n"
   ]
  },
  {
   "cell_type": "markdown",
   "metadata": {},
   "source": [
    "These are your tasks for this mini project:\n",
    "\n",
    "1. Collect data from the Franfurt Stock Exchange, for the ticker AFX_X, for the whole year 2017 (keep in mind that the date format is YYYY-MM-DD).\n",
    "2. Convert the returned JSON object into a Python dictionary.\n",
    "3. Calculate what the highest and lowest opening prices were for the stock in this period.\n",
    "4. What was the largest change in any one day (based on High and Low price)?\n",
    "5. What was the largest change between any two days (based on Closing Price)?\n",
    "6. What was the average daily trading volume during this year?\n",
    "7. (Optional) What was the median trading volume during this year. (Note: you may need to implement your own function for calculating the median.)"
   ]
  },
  {
   "cell_type": "markdown",
   "metadata": {},
   "source": [
    "#### 1. Collect data from the Franfurt Stock Exchange, for the ticker AFX_X, for the whole year 2017 (keep in mind that the date format is YYYY-MM-DD)."
   ]
  },
  {
   "cell_type": "code",
   "execution_count": 15,
   "metadata": {},
   "outputs": [],
   "source": [
    "# calling Quandl API and saving JSON file\n",
    "response1 = requests.get('https://www.quandl.com/api/v3/datasets/FSE/AFX_X.json?api_key={}'.format(API_KEY))\n",
    "json_data = response1.json()\n",
    "\n",
    "# from json_data dictionary, saving list containing required AFX_X stock info\n",
    "list_column_name = json_data['dataset']['column_names']\n",
    "list_data = json_data['dataset']['data']"
   ]
  },
  {
   "cell_type": "markdown",
   "metadata": {},
   "source": [
    "#### 2. Convert the returned JSON object into a Python dictionary."
   ]
  },
  {
   "cell_type": "code",
   "execution_count": 16,
   "metadata": {},
   "outputs": [],
   "source": [
    "# creating empty afx_dict dictionary to store AFX_X stock info\n",
    "afx_dict = {}\n",
    "for i in range(0,11):\n",
    "    afx_dict[i] = []\n",
    "\n",
    "# storing AFX_X stock information into dictionary afx_dict and filtering by year 2017\n",
    "for row in list_data:\n",
    "    if '2017' in row[0]:\n",
    "        for i in range(0, 11):\n",
    "            afx_dict[i].append(row[i])\n",
    "            \n",
    "# replacing afx_dict keys with list_column_names\n",
    "for j in range(0,11):\n",
    "    afx_dict[list_column_name[j]] = afx_dict.pop(j)\n",
    "    \n",
    "num_entries = len(afx_dict['Date'])"
   ]
  },
  {
   "cell_type": "markdown",
   "metadata": {},
   "source": [
    "#### 3. Calculate what the highest and lowest opening prices were for the stock in this period."
   ]
  },
  {
   "cell_type": "code",
   "execution_count": 17,
   "metadata": {},
   "outputs": [
    {
     "name": "stdout",
     "output_type": "stream",
     "text": [
      "AFX_X 2017 highest opening price: $ 53.11\n",
      "AFX_X 2017 lowest opening price: $ 34.0\n"
     ]
    }
   ],
   "source": [
    "print('AFX_X 2017 highest opening price: $', max(filter(lambda x: x is not None, afx_dict['Open'])))\n",
    "print('AFX_X 2017 lowest opening price: $', min(filter(lambda x: x is not None, afx_dict['Open'])))"
   ]
  },
  {
   "cell_type": "markdown",
   "metadata": {},
   "source": [
    "#### 4. What was the largest change in any one day (based on High and Low price)?"
   ]
  },
  {
   "cell_type": "code",
   "execution_count": 18,
   "metadata": {},
   "outputs": [
    {
     "name": "stdout",
     "output_type": "stream",
     "text": [
      "AFX_X 2017 largest one day change: $ 2.81\n"
     ]
    }
   ],
   "source": [
    "# for loop that subtracts the daily high and low price; saves highest price difference for 2017\n",
    "largest_1_day = 0\n",
    "for i in range(0, num_entries):\n",
    "    if (afx_dict['High'][i] != None) and (afx_dict['Low'][i] != None):\n",
    "        diff = afx_dict['High'][i] - afx_dict['Low'][i]\n",
    "    else:\n",
    "        pass\n",
    "\n",
    "    if diff > largest_1_day:\n",
    "        largest_1_day = diff\n",
    "\n",
    "print('AFX_X 2017 largest one day change: $', round(largest_1_day, 2))"
   ]
  },
  {
   "cell_type": "markdown",
   "metadata": {},
   "source": [
    "#### 5. What was the largest change between any two days (based on Closing Price)?"
   ]
  },
  {
   "cell_type": "code",
   "execution_count": 19,
   "metadata": {},
   "outputs": [
    {
     "name": "stdout",
     "output_type": "stream",
     "text": [
      "AFX_X 2017 largest two day change: $ 2.56\n"
     ]
    }
   ],
   "source": [
    "# for loop that saves the largest difference between close price on back to back days\n",
    "largest_2_day = 0\n",
    "for i in range(0, num_entries):\n",
    "    if i+1 < num_entries:\n",
    "        diff = abs(afx_dict['Close'][i+1] - afx_dict['Close'][i])\n",
    "    else:\n",
    "        pass\n",
    "\n",
    "    if diff > largest_2_day:\n",
    "        largest_2_day = diff\n",
    "\n",
    "print('AFX_X 2017 largest two day change: $', round(largest_2_day, 2))"
   ]
  },
  {
   "cell_type": "markdown",
   "metadata": {},
   "source": [
    "#### 6. What was the average daily trading volume during this year?"
   ]
  },
  {
   "cell_type": "code",
   "execution_count": 20,
   "metadata": {},
   "outputs": [
    {
     "name": "stdout",
     "output_type": "stream",
     "text": [
      "AFX_X 2017 average daily trading volume: 89124.34\n"
     ]
    }
   ],
   "source": [
    "# summing up daily 2017 trade volume and dividing by total entries for year average\n",
    "total_vol = 0\n",
    "for i in range(0, num_entries):\n",
    "    total_vol = total_vol + afx_dict['Traded Volume'][i]\n",
    "\n",
    "print('AFX_X 2017 average daily trading volume:', round(total_vol/num_entries, 2))"
   ]
  },
  {
   "cell_type": "markdown",
   "metadata": {},
   "source": [
    "#### 7. (Optional) What was the median trading volume during this year. (Note: you may need to implement your own function for calculating the median.)"
   ]
  },
  {
   "cell_type": "code",
   "execution_count": 21,
   "metadata": {},
   "outputs": [
    {
     "name": "stdout",
     "output_type": "stream",
     "text": [
      "AFX_X 2017 median daily trading volume: 76600.0\n"
     ]
    }
   ],
   "source": [
    "# defining function that determines median of a list based on whether list has even or odd number of values\n",
    "sorted_vol = []\n",
    "sorted_vol = sorted(afx_dict['Traded Volume'])\n",
    "\n",
    "def find_median(list):\n",
    "    if len(list)%2 == 0:\n",
    "        i = int(len(list)/2)\n",
    "        return (list[i] + list[i+1])/2\n",
    "    else:\n",
    "        i = int((len(list)+1)/2)\n",
    "        return list[i]\n",
    "\n",
    "print('AFX_X 2017 median daily trading volume:', find_median(sorted_vol))"
   ]
  }
 ],
 "metadata": {
  "kernelspec": {
   "display_name": "Python 3",
   "language": "python",
   "name": "python3"
  },
  "language_info": {
   "codemirror_mode": {
    "name": "ipython",
    "version": 3
   },
   "file_extension": ".py",
   "mimetype": "text/x-python",
   "name": "python",
   "nbconvert_exporter": "python",
   "pygments_lexer": "ipython3",
   "version": "3.6.4"
  }
 },
 "nbformat": 4,
 "nbformat_minor": 2
}
