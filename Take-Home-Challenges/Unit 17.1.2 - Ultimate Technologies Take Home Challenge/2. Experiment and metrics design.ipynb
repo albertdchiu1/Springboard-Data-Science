{
 "cells": [
  {
   "cell_type": "markdown",
   "metadata": {},
   "source": [
    "__Part 2 ‑ Experiment and metrics design__\n",
    "\n",
    "The neighboring cities of Gotham and Metropolis have complementary circadian rhythms: on weekdays, Ultimate Gotham is most active at night, and Ultimate Metropolis is most active during the day. On weekends, there is reasonable activity in both cities. However, a toll bridge, with a two way toll, between the two cities causes driver partners to tend to be exclusive to each city. The Ultimate managers of city operations for the two cities have proposed an experiment to encourage driver partners to be available in both cities, by reimbursing all toll costs.\n",
    "\n",
    "1. What would you choose as the key measure of success of this experiment in\n",
    "encouraging driver partners to serve both cities, and why would you choose this metric?\n",
    "\n",
    "2. Describe a practical experiment you would design to compare the effectiveness of the\n",
    "proposed change in relation to the key measure of success. Please provide details on:<br>\n",
    "a. how you will implement the experiment <br>\n",
    "b. what statistical test(s) you will conduct to verify the significance of the observation<br>\n",
    "c. how you would interpret the results and provide recommendations to the city operations team along with any caveats."
   ]
  },
  {
   "cell_type": "markdown",
   "metadata": {},
   "source": [
    "<div class=\"alert alert-block alert-info\">\n",
    "   \n",
    "1. The metric I would use as the key measure of success for this experiment is to see an increase in the number of times drivers cross the bridge.  To obtain this information, I would collect the start and end location for each ride.  If the ride starts in one city and ends in another city, we can assume that they have crossed the bridge.  Ideally, we would like to see more drivers start in Metropolis and end in Gotham during nights and vice versa for days.  This would indicate that the drivers are going to the areas of most activity. <br><br>\n",
    "    \n",
    "2. To implement this experiment, I would collect baseline information several weeks prior to the rolling out of the toll reimbursement initiative.  I would then collect several weeks of data after the initiative is rolled out and compare the amount of bridge crossings.  To verify the significance of the observation, I would perform hypothesis testing on whether there is a statistical difference between the amount of bridge crossings (by day of week) before and after the start of the initiative.  \n",
    "\n",
    "    If it is observed that there is a significant increase in the number of bridge crossings, it may indicate that drivers are increasing their service in both cities and that the initiative is having the desired effect.  \n",
    "    \n",
    "    A caveat to this approach is that it is possible that the fleet of drivers has increased significantly between the baseline and after the launch of the initiative.  If that is the case, the increased activity might be due to the increase in amount of drivers and not necessarily indicate that each driver is crossing the bridge more frequently.  If we see a significant increase in drivers, we can address this by taking the average number of bridge crossings per driver."
   ]
  },
  {
   "cell_type": "code",
   "execution_count": null,
   "metadata": {},
   "outputs": [],
   "source": []
  }
 ],
 "metadata": {
  "kernelspec": {
   "display_name": "Python 3",
   "language": "python",
   "name": "python3"
  },
  "language_info": {
   "codemirror_mode": {
    "name": "ipython",
    "version": 3
   },
   "file_extension": ".py",
   "mimetype": "text/x-python",
   "name": "python",
   "nbconvert_exporter": "python",
   "pygments_lexer": "ipython3",
   "version": "3.6.4"
  }
 },
 "nbformat": 4,
 "nbformat_minor": 2
}
