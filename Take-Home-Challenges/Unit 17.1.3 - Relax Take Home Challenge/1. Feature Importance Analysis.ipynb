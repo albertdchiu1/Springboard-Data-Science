{
 "cells": [
  {
   "cell_type": "markdown",
   "metadata": {},
   "source": [
    "__INSTRUCTIONS:__\n",
    "\n",
    "A user table ( \"takehome_users\" ) with data on 12,000 users who signed up for the\n",
    "product in the last two years.\n",
    "\n",
    "A usage summary table ( \"takehome_user_engagement\") that has a row for each day that a user logged into the product. \n",
    "\n",
    "Defining an \"adopted user\" as a user who has logged into the product on three separate days in at least one sevenday period, identify which factors predict future user adoption.\n",
    "\n",
    "Please send us a brief writeup of your findings (the more concise, the better no more\n",
    "than one page), along with any summary tables, graphs, code, or queries that can help us understand your approach. Please note any factors you considered or investigation you did, even if they did not pan out. Feel free to identify any further research or data you think would be valuable."
   ]
  },
  {
   "cell_type": "markdown",
   "metadata": {},
   "source": [
    "__1. Perform Cleaning, EDA and Visualizations__"
   ]
  },
  {
   "cell_type": "code",
   "execution_count": 1,
   "metadata": {
    "scrolled": true
   },
   "outputs": [],
   "source": [
    "import pandas as pd\n",
    "import numpy as np\n",
    "import timestring\n",
    "from datetime import datetime, timedelta\n",
    "from sklearn.feature_selection import SelectKBest\n",
    "from sklearn.feature_selection import chi2\n",
    "\n",
    "\n",
    "# disable warnings\n",
    "import warnings\n",
    "warnings.filterwarnings('ignore')\n",
    "\n",
    "# converting csv file into dataframe\n",
    "engage_df = pd.read_csv('takehome_user_engagement.csv', infer_datetime_format=True)\n",
    "engage_df.dropna(inplace=True)\n",
    "\n",
    "cols = list(pd.read_csv(\"takehome_users.csv\", nrows =1))\n",
    "user_df = pd.read_csv('takehome_users.csv', usecols =[i for i in cols if i != 'last_session_creation_time']) # removing last_session_creation_time column as it does not contain date time info\n",
    "user_df.dropna(inplace=True)"
   ]
  },
  {
   "cell_type": "code",
   "execution_count": 4,
   "metadata": {},
   "outputs": [],
   "source": [
    "# converting time_stamp column from string into datetime format\n",
    "engage_df['timestamp'] = engage_df['time_stamp'].apply(lambda x: datetime.strptime(x, '%Y-%m-%d %H:%M:%S'))\n",
    "engage_df.drop('time_stamp', axis=1, inplace=True)"
   ]
  },
  {
   "cell_type": "code",
   "execution_count": 5,
   "metadata": {},
   "outputs": [],
   "source": [
    "# getting list of user_id's that have at least 3 visits\n",
    "grouped_df = engage_df.groupby('user_id').count()\n",
    "more_than_3 = grouped_df[grouped_df['visited'] >= 3]\n",
    "more_than_3_ids = list(more_than_3.index)\n",
    "\n",
    "# check_adopted function takes in a user_id and checks if customer was adopted (3 logins \n",
    "# within 7 days) or not; if customer is adopted, append user_id to adopted_list\n",
    "adopted_list = []\n",
    "def check_adopted(user_id):\n",
    "    user_id_df = engage_df[engage_df['user_id'] == user_id]\n",
    "    current_date = user_id_df['timestamp'].iloc[0]\n",
    "        \n",
    "    for x in range(len(user_id_df)-2):\n",
    "        week_forward = current_date + timedelta(days=7)\n",
    "        if week_forward > user_id_df['timestamp'].iloc[x+2]:\n",
    "            adopted_list.append(user_id)\n",
    "            break\n",
    "        else:\n",
    "            current_date = user_id_df['timestamp'].iloc[x]\n",
    "\n",
    "            \n",
    "for user_ids in more_than_3_ids:\n",
    "    check_adopted(user_ids)"
   ]
  },
  {
   "cell_type": "code",
   "execution_count": 6,
   "metadata": {
    "scrolled": false
   },
   "outputs": [],
   "source": [
    "# creating new column 'adopted' in user_df that indicates whether customer was adopted or not\n",
    "user_df['adopted'] = user_df['object_id'].apply(lambda x: x in adopted_list)"
   ]
  },
  {
   "cell_type": "code",
   "execution_count": 7,
   "metadata": {},
   "outputs": [],
   "source": [
    "# updating categorical columns with get_dummies\n",
    "user_df = pd.get_dummies(user_df, columns=['creation_source'])"
   ]
  },
  {
   "cell_type": "code",
   "execution_count": 8,
   "metadata": {
    "scrolled": true
   },
   "outputs": [
    {
     "data": {
      "text/html": [
       "<div>\n",
       "<style scoped>\n",
       "    .dataframe tbody tr th:only-of-type {\n",
       "        vertical-align: middle;\n",
       "    }\n",
       "\n",
       "    .dataframe tbody tr th {\n",
       "        vertical-align: top;\n",
       "    }\n",
       "\n",
       "    .dataframe thead th {\n",
       "        text-align: right;\n",
       "    }\n",
       "</style>\n",
       "<table border=\"1\" class=\"dataframe\">\n",
       "  <thead>\n",
       "    <tr style=\"text-align: right;\">\n",
       "      <th></th>\n",
       "      <th>object_id</th>\n",
       "      <th>creation_time</th>\n",
       "      <th>name</th>\n",
       "      <th>email</th>\n",
       "      <th>opted_in_to_mailing_list</th>\n",
       "      <th>enabled_for_marketing_drip</th>\n",
       "      <th>org_id</th>\n",
       "      <th>invited_by_user_id</th>\n",
       "      <th>adopted</th>\n",
       "      <th>creation_source_GUEST_INVITE</th>\n",
       "      <th>creation_source_ORG_INVITE</th>\n",
       "    </tr>\n",
       "  </thead>\n",
       "  <tbody>\n",
       "    <tr>\n",
       "      <th>0</th>\n",
       "      <td>1</td>\n",
       "      <td>2014-04-22 03:53:30</td>\n",
       "      <td>Clausen August</td>\n",
       "      <td>AugustCClausen@yahoo.com</td>\n",
       "      <td>1</td>\n",
       "      <td>0</td>\n",
       "      <td>11</td>\n",
       "      <td>10803.0</td>\n",
       "      <td>False</td>\n",
       "      <td>1</td>\n",
       "      <td>0</td>\n",
       "    </tr>\n",
       "    <tr>\n",
       "      <th>1</th>\n",
       "      <td>2</td>\n",
       "      <td>2013-11-15 03:45:04</td>\n",
       "      <td>Poole Matthew</td>\n",
       "      <td>MatthewPoole@gustr.com</td>\n",
       "      <td>0</td>\n",
       "      <td>0</td>\n",
       "      <td>1</td>\n",
       "      <td>316.0</td>\n",
       "      <td>False</td>\n",
       "      <td>0</td>\n",
       "      <td>1</td>\n",
       "    </tr>\n",
       "    <tr>\n",
       "      <th>2</th>\n",
       "      <td>3</td>\n",
       "      <td>2013-03-19 23:14:52</td>\n",
       "      <td>Bottrill Mitchell</td>\n",
       "      <td>MitchellBottrill@gustr.com</td>\n",
       "      <td>0</td>\n",
       "      <td>0</td>\n",
       "      <td>94</td>\n",
       "      <td>1525.0</td>\n",
       "      <td>False</td>\n",
       "      <td>0</td>\n",
       "      <td>1</td>\n",
       "    </tr>\n",
       "    <tr>\n",
       "      <th>3</th>\n",
       "      <td>4</td>\n",
       "      <td>2013-05-21 08:09:28</td>\n",
       "      <td>Clausen Nicklas</td>\n",
       "      <td>NicklasSClausen@yahoo.com</td>\n",
       "      <td>0</td>\n",
       "      <td>0</td>\n",
       "      <td>1</td>\n",
       "      <td>5151.0</td>\n",
       "      <td>False</td>\n",
       "      <td>1</td>\n",
       "      <td>0</td>\n",
       "    </tr>\n",
       "    <tr>\n",
       "      <th>4</th>\n",
       "      <td>5</td>\n",
       "      <td>2013-01-17 10:14:20</td>\n",
       "      <td>Raw Grace</td>\n",
       "      <td>GraceRaw@yahoo.com</td>\n",
       "      <td>0</td>\n",
       "      <td>0</td>\n",
       "      <td>193</td>\n",
       "      <td>5240.0</td>\n",
       "      <td>False</td>\n",
       "      <td>1</td>\n",
       "      <td>0</td>\n",
       "    </tr>\n",
       "  </tbody>\n",
       "</table>\n",
       "</div>"
      ],
      "text/plain": [
       "   object_id        creation_time               name  \\\n",
       "0          1  2014-04-22 03:53:30     Clausen August   \n",
       "1          2  2013-11-15 03:45:04      Poole Matthew   \n",
       "2          3  2013-03-19 23:14:52  Bottrill Mitchell   \n",
       "3          4  2013-05-21 08:09:28    Clausen Nicklas   \n",
       "4          5  2013-01-17 10:14:20          Raw Grace   \n",
       "\n",
       "                        email  opted_in_to_mailing_list  \\\n",
       "0    AugustCClausen@yahoo.com                         1   \n",
       "1      MatthewPoole@gustr.com                         0   \n",
       "2  MitchellBottrill@gustr.com                         0   \n",
       "3   NicklasSClausen@yahoo.com                         0   \n",
       "4          GraceRaw@yahoo.com                         0   \n",
       "\n",
       "   enabled_for_marketing_drip  org_id  invited_by_user_id  adopted  \\\n",
       "0                           0      11             10803.0    False   \n",
       "1                           0       1               316.0    False   \n",
       "2                           0      94              1525.0    False   \n",
       "3                           0       1              5151.0    False   \n",
       "4                           0     193              5240.0    False   \n",
       "\n",
       "   creation_source_GUEST_INVITE  creation_source_ORG_INVITE  \n",
       "0                             1                           0  \n",
       "1                             0                           1  \n",
       "2                             0                           1  \n",
       "3                             1                           0  \n",
       "4                             1                           0  "
      ]
     },
     "execution_count": 8,
     "metadata": {},
     "output_type": "execute_result"
    }
   ],
   "source": [
    "user_df.head()"
   ]
  },
  {
   "cell_type": "code",
   "execution_count": 9,
   "metadata": {
    "scrolled": true
   },
   "outputs": [
    {
     "name": "stdout",
     "output_type": "stream",
     "text": [
      "Score for opted_in_to_mailing_list: 0.669\n",
      "Score for enabled_for_marketing_drip: 0.097\n",
      "Score for org_id: 2522.815\n",
      "Score for creation_source_GUEST_INVITE: 10.51\n",
      "Score for creation_source_ORG_INVITE: 5.344\n"
     ]
    }
   ],
   "source": [
    "# segregating features and labels\n",
    "X = user_df.drop(['object_id', 'creation_time', 'name', 'email', 'adopted', 'invited_by_user_id'], axis=1)\n",
    "y = user_df['adopted']\n",
    "\n",
    "# feature extraction\n",
    "test = SelectKBest(score_func=chi2, k=3)\n",
    "fit = test.fit(X, y)\n",
    "\n",
    "# print out feature importance scores\n",
    "for x in range(len(X.columns)):\n",
    "    print('Score for {0}: {1}'.format(X.columns[x], round(fit.scores_[x], 3)))\n"
   ]
  },
  {
   "cell_type": "markdown",
   "metadata": {},
   "source": [
    "__Summary:__\n",
    "\n",
    "My first step was to determine the users that were considered 'adopted users' (3 days of logins over a 7 day period) and creating a column to identify these users.  Next, I segregated the features and labels and performed feature extraction using SelectKBest to determine the features that were most important in determining whether a customer would be an adopted user or not.  From the results, org_id is overwhelmingly the most important feature, followed by creation source."
   ]
  }
 ],
 "metadata": {
  "kernelspec": {
   "display_name": "Python 3",
   "language": "python",
   "name": "python3"
  },
  "language_info": {
   "codemirror_mode": {
    "name": "ipython",
    "version": 3
   },
   "file_extension": ".py",
   "mimetype": "text/x-python",
   "name": "python",
   "nbconvert_exporter": "python",
   "pygments_lexer": "ipython3",
   "version": "3.6.4"
  }
 },
 "nbformat": 4,
 "nbformat_minor": 2
}
