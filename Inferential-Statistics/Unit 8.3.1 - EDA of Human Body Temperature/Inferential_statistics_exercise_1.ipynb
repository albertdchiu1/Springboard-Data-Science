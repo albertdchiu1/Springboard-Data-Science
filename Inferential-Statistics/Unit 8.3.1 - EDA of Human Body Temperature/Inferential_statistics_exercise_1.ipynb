{
 "cells": [
  {
   "cell_type": "markdown",
   "metadata": {},
   "source": [
    "# What is the True Normal Human Body Temperature? \n",
    "\n",
    "#### Background\n",
    "\n",
    "The mean normal body temperature was held to be 37$^{\\circ}$C or 98.6$^{\\circ}$F for more than 120 years since it was first conceptualized and reported by Carl Wunderlich in a famous 1868 book. But, is this value statistically correct?"
   ]
  },
  {
   "cell_type": "markdown",
   "metadata": {},
   "source": [
    "<h3>Exercises</h3>\n",
    "\n",
    "<p>In this exercise, you will analyze a dataset of human body temperatures and employ the concepts of hypothesis testing, confidence intervals, and statistical significance.</p>\n",
    "\n",
    "<p>Answer the following questions <b>in this notebook below and submit to your Github account</b>.</p> \n",
    "\n",
    "<ol>\n",
    "<li>  Is the distribution of body temperatures normal? \n",
    "    <ul>\n",
    "    <li> Although this is not a requirement for the Central Limit Theorem to hold (read the introduction on Wikipedia's page about the CLT carefully: https://en.wikipedia.org/wiki/Central_limit_theorem), it gives us some peace of mind that the population may also be normally distributed if we assume that this sample is representative of the population.\n",
    "    <li> Think about the way you're going to check for the normality of the distribution. Graphical methods are usually used first, but there are also other ways: https://en.wikipedia.org/wiki/Normality_test\n",
    "    </ul>\n",
    "<li>  Is the sample size large? Are the observations independent?\n",
    "    <ul>\n",
    "    <li> Remember that this is a condition for the Central Limit Theorem, and hence the statistical tests we are using, to apply.\n",
    "    </ul>\n",
    "<li>  Is the true population mean really 98.6 degrees F?\n",
    "    <ul>\n",
    "    <li> First, try a bootstrap hypothesis test.\n",
    "    <li> Now, let's try frequentist statistical testing. Would you use a one-sample or two-sample test? Why?\n",
    "    <li> In this situation, is it appropriate to use the $t$ or $z$ statistic? \n",
    "    <li> Now try using the other test. How is the result be different? Why?\n",
    "    </ul>\n",
    "<li>  Draw a small sample of size 10 from the data and repeat both frequentist tests. \n",
    "    <ul>\n",
    "    <li> Which one is the correct one to use? \n",
    "    <li> What do you notice? What does this tell you about the difference in application of the $t$ and $z$ statistic?\n",
    "    </ul>\n",
    "<li>  At what temperature should we consider someone's temperature to be \"abnormal\"?\n",
    "    <ul>\n",
    "    <li> As in the previous example, try calculating everything using the boostrap approach, as well as the frequentist approach.\n",
    "    <li> Start by computing the margin of error and confidence interval. When calculating the confidence interval, keep in mind that you should use the appropriate formula for one draw, and not N draws.\n",
    "    </ul>\n",
    "<li>  Is there a significant difference between males and females in normal temperature?\n",
    "    <ul>\n",
    "    <li> What testing approach did you use and why?\n",
    "    <li> Write a story with your conclusion in the context of the original problem.\n",
    "    </ul>\n",
    "</ol>\n",
    "\n",
    "You can include written notes in notebook cells using Markdown: \n",
    "   - In the control panel at the top, choose Cell > Cell Type > Markdown\n",
    "   - Markdown syntax: http://nestacms.com/docs/creating-content/markdown-cheat-sheet\n",
    "\n",
    "#### Resources\n",
    "\n",
    "+ Information and data sources: http://www.amstat.org/publications/jse/datasets/normtemp.txt, http://www.amstat.org/publications/jse/jse_data_archive.htm\n",
    "+ Markdown syntax: http://nestacms.com/docs/creating-content/markdown-cheat-sheet\n",
    "\n",
    "****"
   ]
  },
  {
   "cell_type": "code",
   "execution_count": 1,
   "metadata": {},
   "outputs": [],
   "source": [
    "import pandas as pd\n",
    "import numpy as np\n",
    "import scipy as stats\n",
    "import matplotlib.pyplot as plt\n",
    "import random\n",
    "\n",
    "df = pd.read_csv('data/human_body_temperature.csv')"
   ]
  },
  {
   "cell_type": "markdown",
   "metadata": {},
   "source": [
    "<font color='green'>\n",
    "    1. Is the distribution of body temperatures normal?\n",
    "</font>"
   ]
  },
  {
   "cell_type": "code",
   "execution_count": 2,
   "metadata": {},
   "outputs": [
    {
     "data": {
      "image/png": "[encoded data removed]",
      "text/plain": [
       "<Figure size 432x288 with 1 Axes>"
      ]
     },
     "metadata": {},
     "output_type": "display_data"
    }
   ],
   "source": [
    "# plotting histogram of temperature data\n",
    "\n",
    "_ = df.temperature.hist(bins=15)\n",
    "_ = plt.xlabel('body temperature')\n",
    "_ = plt.ylabel('occurences')\n",
    "_ = plt.title('Histogram of body temperature')\n",
    "plt.show()"
   ]
  },
  {
   "cell_type": "code",
   "execution_count": 3,
   "metadata": {},
   "outputs": [
    {
     "data": {
      "image/png": "[encoded data removed]",
      "text/plain": [
       "<Figure size 432x288 with 1 Axes>"
      ]
     },
     "metadata": {},
     "output_type": "display_data"
    }
   ],
   "source": [
    "# plotting ECDF of temperature data\n",
    "\n",
    "x = np.sort(df.temperature)\n",
    "y = np.arange(1, len(x)+1) / len(x)\n",
    "\n",
    "# normal = stats.norm(loc=0, scale=1)\n",
    "# x_theor = np.linspace(x[0], x[-1], 1000)\n",
    "# y_theor = normal.cdf(x_theor)\n",
    "\n",
    "_ = plt.plot(x, y, marker='.', linestyle='none', label='Empirical CDF')\n",
    "# _ = plt.plot(x_theor, y_theor, marker='.', linestyle='none', label='Theoretical CDF')\n",
    "_ = plt.xlabel('body temperature')\n",
    "_ = plt.ylabel('ECDF')\n",
    "_ = plt.title('ECDF of body temperature')\n",
    "plt.show()"
   ]
  },
  {
   "cell_type": "code",
   "execution_count": 4,
   "metadata": {},
   "outputs": [
    {
     "data": {
      "image/png": "[encoded data removed]",
      "text/plain": [
       "<Figure size 432x288 with 1 Axes>"
      ]
     },
     "metadata": {},
     "output_type": "display_data"
    }
   ],
   "source": [
    "# applying central limit theorem to check for normality\n",
    "\n",
    "list = []\n",
    "\n",
    "for i in range(10000):\n",
    "    df_sample = df.temperature.sample(n=8, replace=True)\n",
    "    list.append(df_sample.mean())\n",
    "\n",
    "_ = plt.hist(list, bins=25)\n",
    "_ = plt.xlabel('body temperature')\n",
    "_ = plt.ylabel('frequency')\n",
    "_ = plt.title('Sample mean of body temperature')\n",
    "plt.show()"
   ]
  },
  {
   "cell_type": "markdown",
   "metadata": {},
   "source": [
    "<font color='blue'>\n",
    "Based on the ECDF and graph sample means of body temperature, the  distribution is normal.\n",
    "</font>"
   ]
  },
  {
   "cell_type": "code",
   "execution_count": null,
   "metadata": {},
   "outputs": [],
   "source": []
  },
  {
   "cell_type": "markdown",
   "metadata": {},
   "source": [
    "<font color='green'>\n",
    "    2. Is the sample size large? Are the observations independent?\n",
    "</font>"
   ]
  },
  {
   "cell_type": "markdown",
   "metadata": {},
   "source": [
    "<font color='blue'>\n",
    "To determine if gender and body temperature are independent of each other, we will state our null and alternative hypothesis:<br><br>\n",
    "H0: There is no statistically significant relationship between gender and body temperature.<br>\n",
    "H1: There is a statistically significant relationship between gender and body temperature.<br>\n",
    "</font>"
   ]
  },
  {
   "cell_type": "code",
   "execution_count": 5,
   "metadata": {},
   "outputs": [
    {
     "name": "stdout",
     "output_type": "stream",
     "text": [
      "<class 'pandas.core.frame.DataFrame'>\n",
      "RangeIndex: 130 entries, 0 to 129\n",
      "Data columns (total 3 columns):\n",
      "temperature    130 non-null float64\n",
      "gender         130 non-null object\n",
      "heart_rate     130 non-null float64\n",
      "dtypes: float64(2), object(1)\n",
      "memory usage: 3.1+ KB\n"
     ]
    }
   ],
   "source": [
    "df.info()"
   ]
  },
  {
   "cell_type": "code",
   "execution_count": 6,
   "metadata": {},
   "outputs": [],
   "source": [
    "# creating a column for temperature category\n",
    "def process_temperature(df):\n",
    "    cut_points = [96, 96.5, 97, 97.5, 98, 98.5, 99, 99.5, 100, 1000]\n",
    "    label_names = ['96 - 96.5 F', '96.5 - 97 F', '97 - 97.5 F', '97.5 - 98 F', '98 - 98.5 F', '98.5 - 99 F', '99 - 99.5 F', '99.5 - 100 F', '100 F +']\n",
    "    df['temperature_category'] = pd.cut(df.temperature, cut_points, labels=label_names)\n",
    "    return df\n",
    "\n",
    "data = process_temperature(df)\n",
    "temp_by_gender = data[['gender', 'temperature_category']]"
   ]
  },
  {
   "cell_type": "code",
   "execution_count": 7,
   "metadata": {},
   "outputs": [
    {
     "data": {
      "text/html": [
       "<div>\n",
       "<style scoped>\n",
       "    .dataframe tbody tr th:only-of-type {\n",
       "        vertical-align: middle;\n",
       "    }\n",
       "\n",
       "    .dataframe tbody tr th {\n",
       "        vertical-align: top;\n",
       "    }\n",
       "\n",
       "    .dataframe thead th {\n",
       "        text-align: right;\n",
       "    }\n",
       "</style>\n",
       "<table border=\"1\" class=\"dataframe\">\n",
       "  <thead>\n",
       "    <tr style=\"text-align: right;\">\n",
       "      <th>temperature_category</th>\n",
       "      <th>96 - 96.5 F</th>\n",
       "      <th>96.5 - 97 F</th>\n",
       "      <th>97 - 97.5 F</th>\n",
       "      <th>97.5 - 98 F</th>\n",
       "      <th>98 - 98.5 F</th>\n",
       "      <th>98.5 - 99 F</th>\n",
       "      <th>99 - 99.5 F</th>\n",
       "      <th>99.5 - 100 F</th>\n",
       "      <th>100 F +</th>\n",
       "      <th>All</th>\n",
       "    </tr>\n",
       "    <tr>\n",
       "      <th>gender</th>\n",
       "      <th></th>\n",
       "      <th></th>\n",
       "      <th></th>\n",
       "      <th></th>\n",
       "      <th></th>\n",
       "      <th></th>\n",
       "      <th></th>\n",
       "      <th></th>\n",
       "      <th></th>\n",
       "      <th></th>\n",
       "    </tr>\n",
       "  </thead>\n",
       "  <tbody>\n",
       "    <tr>\n",
       "      <th>F</th>\n",
       "      <td>1</td>\n",
       "      <td>2</td>\n",
       "      <td>3</td>\n",
       "      <td>14</td>\n",
       "      <td>16</td>\n",
       "      <td>20</td>\n",
       "      <td>6</td>\n",
       "      <td>2</td>\n",
       "      <td>1</td>\n",
       "      <td>65</td>\n",
       "    </tr>\n",
       "    <tr>\n",
       "      <th>M</th>\n",
       "      <td>1</td>\n",
       "      <td>3</td>\n",
       "      <td>11</td>\n",
       "      <td>16</td>\n",
       "      <td>14</td>\n",
       "      <td>15</td>\n",
       "      <td>5</td>\n",
       "      <td>0</td>\n",
       "      <td>0</td>\n",
       "      <td>65</td>\n",
       "    </tr>\n",
       "    <tr>\n",
       "      <th>All</th>\n",
       "      <td>11</td>\n",
       "      <td>30</td>\n",
       "      <td>35</td>\n",
       "      <td>14</td>\n",
       "      <td>5</td>\n",
       "      <td>30</td>\n",
       "      <td>2</td>\n",
       "      <td>2</td>\n",
       "      <td>1</td>\n",
       "      <td>130</td>\n",
       "    </tr>\n",
       "  </tbody>\n",
       "</table>\n",
       "</div>"
      ],
      "text/plain": [
       "temperature_category  96 - 96.5 F  96.5 - 97 F  97 - 97.5 F  97.5 - 98 F  \\\n",
       "gender                                                                     \n",
       "F                               1            2            3           14   \n",
       "M                               1            3           11           16   \n",
       "All                            11           30           35           14   \n",
       "\n",
       "temperature_category  98 - 98.5 F  98.5 - 99 F  99 - 99.5 F  99.5 - 100 F  \\\n",
       "gender                                                                      \n",
       "F                              16           20            6             2   \n",
       "M                              14           15            5             0   \n",
       "All                             5           30            2             2   \n",
       "\n",
       "temperature_category  100 F +  All  \n",
       "gender                              \n",
       "F                           1   65  \n",
       "M                           0   65  \n",
       "All                         1  130  "
      ]
     },
     "execution_count": 7,
     "metadata": {},
     "output_type": "execute_result"
    }
   ],
   "source": [
    "# creating contingency table\n",
    "\n",
    "contingency_table = pd.crosstab(temp_by_gender.gender, temp_by_gender.temperature_category, margins=True)\n",
    "contingency_table"
   ]
  },
  {
   "cell_type": "code",
   "execution_count": 8,
   "metadata": {},
   "outputs": [
    {
     "name": "stdout",
     "output_type": "stream",
     "text": [
      "Chi-squared Statistic: 232.7\n",
      "Degrees of freedom: 8\n"
     ]
    }
   ],
   "source": [
    "# calculating chi-squared statistic and degrees of freedom to determine if we can reject null hypothesis\n",
    "\n",
    "f_obs = np.append(contingency_table.iloc[0][0:9].values, contingency_table.iloc[1][0:9].values)\n",
    "\n",
    "row_sum = contingency_table.iloc[0:2,9].values\n",
    "col_sum = contingency_table.iloc[2,0:9].values\n",
    "\n",
    "total = contingency_table.loc['All', 'All']\n",
    "f_expected = []\n",
    "for j in range(2):\n",
    "    for i in col_sum:\n",
    "        f_expected.append(i * row_sum[j]/total)\n",
    "        \n",
    "chi_squared_statistic = ((f_obs - f_expected)**2/f_expected).sum()\n",
    "print('Chi-squared Statistic:', chi_squared_statistic.round(2))\n",
    "\n",
    "dof = (len(row_sum)-1)*(len(col_sum)-1)\n",
    "print('Degrees of freedom:', dof)"
   ]
  },
  {
   "cell_type": "markdown",
   "metadata": {},
   "source": [
    "<font color='blue'>\n",
    "Referring to the chi-squared distribution table, the cut off for an alpha of 0.05 with 8 degrees of freedom is 15.507.  Our value of 232.7 exceeds this value, indicating that we can reject the null hypothesis and accept that there is a statistically significant relationship between gender and body temperature.\n",
    "</font>"
   ]
  },
  {
   "cell_type": "code",
   "execution_count": null,
   "metadata": {},
   "outputs": [],
   "source": []
  },
  {
   "cell_type": "markdown",
   "metadata": {},
   "source": [
    "<font color='green'>\n",
    "    3. Is the true population mean really 98.6 degrees F?<br>\n",
    "    - First, try a bootstrap hypothesis test.<br>\n",
    "- Now, let's try frequentist statistical testing. Would you use a one-sample or two-sample test? Why?<br>\n",
    "- In this situation, is it appropriate to use the  t  or  z  statistic?<br>\n",
    "- Now try using the other test. How is the result be different? Why?\n",
    "</font>"
   ]
  },
  {
   "cell_type": "code",
   "execution_count": 9,
   "metadata": {},
   "outputs": [
    {
     "name": "stdout",
     "output_type": "stream",
     "text": [
      "Body temperature mean (bootstrap): 98.25\n",
      "Body temperature std dev (bootstrap): 0.73\n"
     ]
    }
   ],
   "source": [
    "# bootstrap sampling\n",
    "\n",
    "bs_sample = np.random.choice(df.temperature, size=100000)\n",
    "print('Body temperature mean (bootstrap):', np.mean(bs_sample).round(2))\n",
    "print('Body temperature std dev (bootstrap):', np.std(bs_sample).round(2))"
   ]
  },
  {
   "cell_type": "code",
   "execution_count": 10,
   "metadata": {},
   "outputs": [
    {
     "name": "stdout",
     "output_type": "stream",
     "text": [
      "Confidence interval: [98.12076923 98.37384615]\n"
     ]
    },
    {
     "data": {
      "image/png": "[encoded data removed]",
      "text/plain": [
       "<Figure size 432x288 with 1 Axes>"
      ]
     },
     "metadata": {},
     "output_type": "display_data"
    }
   ],
   "source": [
    "# defining function for bootstrap replicate\n",
    "def bootstrap_replicate(data, func):\n",
    "    bs_sample = np.random.choice(data, len(data))\n",
    "    return func(bs_sample)\n",
    "\n",
    "# bootstrap sampling of temperature mean\n",
    "bs_replicates = np.empty(10000)\n",
    "\n",
    "for i in range(10000):\n",
    "    bs_replicates[i] = bootstrap_replicate(df.temperature, np.mean)\n",
    "\n",
    "_ = plt.hist(bs_replicates, bins=30, density=True)\n",
    "_ = plt.xlabel('Mean body temperature')\n",
    "_ = plt.ylabel('PDF')\n",
    "\n",
    "conf_int = np.percentile(bs_replicates, [2.5, 97.5])\n",
    "print('Confidence interval:', conf_int)"
   ]
  },
  {
   "cell_type": "markdown",
   "metadata": {},
   "source": [
    "<font color='blue'>\n",
    "Using bootstrap hypothesis testing, we see that 98.6F falls outside of the 95% CI of the sampled body temperature PDF [98.12, 98.37].\n",
    "</font>"
   ]
  },
  {
   "cell_type": "markdown",
   "metadata": {},
   "source": [
    "<font color='blue'>\n",
    "A one sample test is used when we are testing a sample mean against a known or hypothesized population value.  A two sample test is used when we are comparing if the differences between two groups are significantly different.  For this problem, we would use a one sample test as we are attempting to determine whether the sampled body temperature mean is the generally accepted value of 98.6∘ F.<br><br>\n",
    "    \n",
    "Additionally, this situation would call for using a z statistic.  Z statistics are used when there is a large sample size (greater than 30).  T statistics are generally used when there is a smaller sample size (less than 30).\n",
    "</font>"
   ]
  },
  {
   "cell_type": "markdown",
   "metadata": {},
   "source": [
    "H0: The mean body temperature is 98.6F\n",
    "H1: The mean body temperature is not 98.6F\n",
    "\n",
    "alpha = 0.05"
   ]
  },
  {
   "cell_type": "code",
   "execution_count": 11,
   "metadata": {},
   "outputs": [
    {
     "name": "stdout",
     "output_type": "stream",
     "text": [
      "Z-score: -5.45\n"
     ]
    }
   ],
   "source": [
    "# function for one sample z-test statistic\n",
    "def z_score_1s(pop_mean, samp_mean, samp_std, n):\n",
    "    if n > 30:\n",
    "        return ((samp_mean - pop_mean)/(samp_std/np.sqrt(n)))\n",
    "\n",
    "print('Z-score:', z_score_1s(98.6, df.temperature.mean(), df.temperature.std(), len(df.temperature)).round(2))"
   ]
  },
  {
   "cell_type": "markdown",
   "metadata": {},
   "source": [
    "<font color='blue'>\n",
    "Using a one sample, two tailed Z test, we see that the resulting z_score of -5.45 falls in the rejection region outside of [-1.96, 1.96].  Therefore, we can reject the null hypothesis and accept that the mean body temperature is not 98.6F.\n",
    "</font>"
   ]
  },
  {
   "cell_type": "markdown",
   "metadata": {},
   "source": [
    "<font color='green'>\n",
    "    4. Draw a small sample of size 10 from the data and repeat both frequentist tests.<br>\n",
    "    - Which one is the correct one to use?<br>\n",
    "- What do you notice? What does this tell you about the difference in application of the t  and z statistic?\n",
    "</font>"
   ]
  },
  {
   "cell_type": "code",
   "execution_count": 12,
   "metadata": {},
   "outputs": [
    {
     "name": "stdout",
     "output_type": "stream",
     "text": [
      "Confidence interval: [98.132 98.313]\n"
     ]
    },
    {
     "data": {
      "image/png": "[encoded data removed]",
      "text/plain": [
       "<Figure size 432x288 with 1 Axes>"
      ]
     },
     "metadata": {},
     "output_type": "display_data"
    }
   ],
   "source": [
    "bs_replicates = np.empty(10)\n",
    "\n",
    "for i in range(10):\n",
    "    bs_replicates[i] = bootstrap_replicate(df.temperature, np.mean)\n",
    "    \n",
    "_ = plt.hist(bs_replicates, bins=30, density=True)\n",
    "_ = plt.xlabel('Mean body temperature')\n",
    "_ = plt.ylabel('PDF')\n",
    "\n",
    "conf_int = np.percentile(bs_replicates, [2.5, 97.5])\n",
    "print('Confidence interval:', conf_int.round(3))"
   ]
  },
  {
   "cell_type": "code",
   "execution_count": 13,
   "metadata": {},
   "outputs": [
    {
     "name": "stdout",
     "output_type": "stream",
     "text": [
      "t-score: -1.645\n"
     ]
    }
   ],
   "source": [
    "# calculating t-score with a sample size of 10\n",
    "\n",
    "t_score_df = df.temperature.sample(n=10)\n",
    "\n",
    "def t_score(pop_mean, samp_mean, samp_std, n):\n",
    "    if n < 30:\n",
    "        return ((samp_mean - pop_mean)/(samp_std/np.sqrt(n)))\n",
    "\n",
    "print('t-score:', t_score(98.6, t_score_df.mean(), t_score_df.std(), len(t_score_df)).round(3))"
   ]
  },
  {
   "cell_type": "markdown",
   "metadata": {},
   "source": [
    "<font color='green'>\n",
    "    5. At what temperature should we consider someone's temperature to be \"abnormal\"?<br>\n",
    "    - As in the previous example, try calculating everything using the boostrap approach, as well as the frequentist approach.<br>\n",
    "- Start by computing the margin of error and confidence interval. When calculating the confidence interval, keep in mind that you should use the appropriate formula for one draw, and not N draws.\n",
    "</font>"
   ]
  },
  {
   "cell_type": "code",
   "execution_count": 14,
   "metadata": {},
   "outputs": [
    {
     "name": "stdout",
     "output_type": "stream",
     "text": [
      "Margin of error: 0.126 degrees F\n"
     ]
    }
   ],
   "source": [
    "# calculating margin of error (ME = z * std/sqrt(n])\n",
    "mar_err = 1.96 * df.temperature.std() / np.sqrt(len(df.temperature))\n",
    "print('Margin of error:', mar_err.round(4), 'degrees F')"
   ]
  },
  {
   "cell_type": "markdown",
   "metadata": {},
   "source": [
    "<font color='blue'> \n",
    "From problem 3, for an alpha = 0.05, we obtained a confidence interval of [98.12, 98.37] using bootstrap approach.\n",
    "</font>"
   ]
  },
  {
   "cell_type": "code",
   "execution_count": null,
   "metadata": {},
   "outputs": [],
   "source": []
  },
  {
   "cell_type": "markdown",
   "metadata": {},
   "source": [
    "<font color='green'>\n",
    "    6. Is there a significant difference between males and females in normal temperature?<br>\n",
    "- What testing approach did you use and why?<br>\n",
    "- Write a story with your conclusion in the context of the original problem.\n",
    "</font>"
   ]
  },
  {
   "cell_type": "code",
   "execution_count": 15,
   "metadata": {},
   "outputs": [],
   "source": [
    "# function for two sample z-test statistic\n",
    "def z_score_2s(samp_mean1, samp_mean2, samp_std1, samp_std2, n1, n2):\n",
    "    if (n1 > 30) and (n2 > 30):\n",
    "        return (samp_mean1 - samp_mean2)/(np.sqrt(((samp_std1**2)/n1)+((samp_std2**2)/n2)))"
   ]
  },
  {
   "cell_type": "code",
   "execution_count": 17,
   "metadata": {},
   "outputs": [
    {
     "name": "stdout",
     "output_type": "stream",
     "text": [
      "P-value: 0.024\n"
     ]
    }
   ],
   "source": [
    "# calculating p-value for male and female temperature\n",
    "import scipy.stats as st\n",
    "\n",
    "male_df = df[df.gender == 'M']\n",
    "female_df = df[df.gender == 'F']\n",
    "\n",
    "stat, pval = st.ttest_ind(male_df.temperature, female_df.temperature)\n",
    "print('P-value:', pval.round(3))\n"
   ]
  },
  {
   "cell_type": "markdown",
   "metadata": {},
   "source": [
    "<font color='blue'>\n",
    "From the calculations, the p-value is .024, which is below the significance level of 0.05.  This indicates that we can reject the null hypothesis and that male and female normal temperatures are significantly different.\n",
    "</font>"
   ]
  }
 ],
 "metadata": {
  "kernelspec": {
   "display_name": "Python 3",
   "language": "python",
   "name": "python3"
  },
  "language_info": {
   "codemirror_mode": {
    "name": "ipython",
    "version": 3
   },
   "file_extension": ".py",
   "mimetype": "text/x-python",
   "name": "python",
   "nbconvert_exporter": "python",
   "pygments_lexer": "ipython3",
   "version": "3.6.4"
  }
 },
 "nbformat": 4,
 "nbformat_minor": 1
}
